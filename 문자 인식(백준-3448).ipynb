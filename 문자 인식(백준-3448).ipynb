{
 "cells": [
  {
   "cell_type": "code",
   "execution_count": 5,
   "metadata": {
    "scrolled": true
   },
   "outputs": [
    {
     "name": "stdout",
     "output_type": "stream",
     "text": [
      "3\n",
      "Pr#nt ex##tly one##ine for#eac# te#t c#se.\n",
      "\n",
      "Efficiency ratio is 78.6%.\n",
      "None.\n",
      "\n",
      "Efficiency ratio is 100%.\n",
      "The i#put consists of N test ca#es. The number of th#m (N) is given on the first #ine of the#input#file.\n",
      "\n",
      "Efficiency ratio is 94.2%.\n"
     ]
    }
   ],
   "source": [
    "case = int(input())\n",
    "\n",
    "for i in range(case):\n",
    "    sentence = input()#입력받는 문장\n",
    "    sentences = []#문장 모음\n",
    "    num_of_null = 0\n",
    "    length=0\n",
    "\n",
    "    while sentence != '':\n",
    "        sentences.append(sentence)\n",
    "        sentence = input()\n",
    "    for j in sentences:\n",
    "        length += len(j)\n",
    "        for k in j:\n",
    "            if k == '#':\n",
    "                num_of_null += 1#인식 못하는 문자마다 개수 추가\n",
    "    precision=round(((length-num_of_null) / length)*100,1)\n",
    "\n",
    "    if str(precision)[-1] == '0':#끝자리가 0이면 정수로 출력\n",
    "        print(\"Efficiency ratio is {}%.\".format(int(precision)))\n",
    "    else:\n",
    "        print(\"Efficiency ratio is {}%.\".format(precision))\n"
   ]
  }
 ],
 "metadata": {
  "kernelspec": {
   "display_name": "Python 3",
   "language": "python",
   "name": "python3"
  },
  "language_info": {
   "codemirror_mode": {
    "name": "ipython",
    "version": 3
   },
   "file_extension": ".py",
   "mimetype": "text/x-python",
   "name": "python",
   "nbconvert_exporter": "python",
   "pygments_lexer": "ipython3",
   "version": "3.8.5"
  }
 },
 "nbformat": 4,
 "nbformat_minor": 4
}
