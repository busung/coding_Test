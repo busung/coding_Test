{
 "cells": [
  {
   "cell_type": "code",
   "execution_count": 7,
   "metadata": {},
   "outputs": [
    {
     "name": "stdout",
     "output_type": "stream",
     "text": [
      "UFRN\n",
      "It is a prime word.\n"
     ]
    }
   ],
   "source": [
    "word=input()\n",
    "num_word=0\n",
    "sosu=1#소수 인지 아닌지 판별하는 변수\n",
    "\n",
    "for i in word:\n",
    "    if i.isupper():#만약 대문자라면\n",
    "        num_word+=ord(i)-38#유니코드로 변경 후 A=65이므로 -38을 해줌\n",
    "    else:\n",
    "        num_word+=ord(i)-96#유니코드 변경 후 a=97이므로 -96을 해줌\n",
    "\n",
    "for i in range(2,num_word):\n",
    "    if num_word%i==0:#소수가 아니라면\n",
    "        sosu=0#소수가 아니기에 0으로 변경\n",
    "        print(\"It is not a prime word.\")\n",
    "        break\n",
    "\n",
    "if sosu:#위의 루프에서 소수라고 판정이 되면\n",
    "    print(\"It is a prime word.\")"
   ]
  }
 ],
 "metadata": {
  "kernelspec": {
   "display_name": "Python 3",
   "language": "python",
   "name": "python3"
  },
  "language_info": {
   "codemirror_mode": {
    "name": "ipython",
    "version": 3
   },
   "file_extension": ".py",
   "mimetype": "text/x-python",
   "name": "python",
   "nbconvert_exporter": "python",
   "pygments_lexer": "ipython3",
   "version": "3.8.5"
  }
 },
 "nbformat": 4,
 "nbformat_minor": 4
}
