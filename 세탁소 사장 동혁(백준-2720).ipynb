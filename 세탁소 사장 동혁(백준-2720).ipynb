{
 "cells": [
  {
   "cell_type": "code",
   "execution_count": 53,
   "metadata": {},
   "outputs": [],
   "source": [
    "def print_change(num):\n",
    "    quarter=num//25\n",
    "    num -= quarter*25\n",
    "    dime = num//10\n",
    "    num -= dime*10\n",
    "    nickel = num//5\n",
    "    num -= nickel*5\n",
    "    penny = num//1\n",
    "    print(\"{} {} {} {}\".format(quarter,dime,nickel,penny))"
   ]
  },
  {
   "cell_type": "code",
   "execution_count": null,
   "metadata": {},
   "outputs": [],
   "source": [
    "num = int(input())\n",
    "for i in range(num):\n",
    "    money = int(input())\n",
    "    print_change(money)"
   ]
  }
 ],
 "metadata": {
  "kernelspec": {
   "display_name": "Python 3",
   "language": "python",
   "name": "python3"
  },
  "language_info": {
   "codemirror_mode": {
    "name": "ipython",
    "version": 3
   },
   "file_extension": ".py",
   "mimetype": "text/x-python",
   "name": "python",
   "nbconvert_exporter": "python",
   "pygments_lexer": "ipython3",
   "version": "3.8.5"
  }
 },
 "nbformat": 4,
 "nbformat_minor": 4
}
