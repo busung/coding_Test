{
 "cells": [
  {
   "cell_type": "code",
   "execution_count": null,
   "metadata": {},
   "outputs": [],
   "source": [
    "##코딩시간 초과\n",
    "##문제를 잘 못 읽고 잘 못 생각함\n",
    "##공백 혹은 특수기호가 들어가 있는 쌍을 버렸어야 했는데\n",
    "##그전에 검열하는 방식으로 사용해서 새로운 문자열이 생성됨\n",
    "\n",
    "##수정 전"
   ]
  },
  {
   "cell_type": "code",
   "execution_count": 47,
   "metadata": {},
   "outputs": [],
   "source": [
    "def make_right_word(str_):#특수 기호를 걸러주는 함수\n",
    "    correct_str = \"\"\n",
    "    for i in str_:\n",
    "        if 65<=ord(i)<=90 or 97<=ord(i)<=122:\n",
    "            correct_str += i\n",
    "    return correct_str\n",
    "\n",
    "def make_small_to_big(str_):#소문자를 대문자로 바꿔주는 함수\n",
    "    changed_str = \"\"\n",
    "    for i in str_:\n",
    "        if 97<=ord(i)<=122:\n",
    "            changed_str += chr(ord(i)-32)\n",
    "        else:\n",
    "            changed_str += i\n",
    "\n",
    "    return changed_str\n",
    "\n",
    "def slicing_str(str_):#정제된 문자열을 슬라이싱 해주는 함수\n",
    "    set_ = set()\n",
    "    for i in range(len(str_)-1):\n",
    "        if str_[i:i+2] not in set_ :\n",
    "            set_.add(str_[i:i+2])\n",
    "        else:\n",
    "            temp_str = str_[i:i+2]+\"1\"\n",
    "            if temp_str not in set_:\n",
    "                set_.add(temp_str)\n",
    "                continue\n",
    "            while i:\n",
    "                if temp_str in set_:\n",
    "                    temp_str += \"1\"\n",
    "                else:\n",
    "                    set_.add(temp_str)\n",
    "                    break\n",
    "    \n",
    "    return set_\n",
    "\n",
    "def check_same(str1,str2):\n",
    "    count = 0 \n",
    "    for i in str1:\n",
    "        if i in str2:\n",
    "            count += 1\n",
    "    return count\n",
    "\n",
    "\n"
   ]
  },
  {
   "cell_type": "code",
   "execution_count": 73,
   "metadata": {},
   "outputs": [
    {
     "name": "stdout",
     "output_type": "stream",
     "text": [
      "HANDSHAKE SHAKEHANDS\n",
      "{'HA', 'SH', 'DS', 'AN', 'ND', 'EH', 'AK', 'HA1', 'KE'} {'HA', 'SH', 'AN', 'ND', 'DS', 'AK', 'HA1', 'KE'}\n",
      "{'HA', 'SH', 'DS', 'AN', 'ND', 'AK', 'HA1', 'KE'} {'HA', 'SH', 'DS', 'AN', 'ND', 'EH', 'AK', 'HA1', 'KE'}\n",
      "58254\n"
     ]
    }
   ],
   "source": [
    "str1=\"handshake\"\n",
    "str2=\"shake hands\"\n",
    "cor_str1=make_right_word(str1)\n",
    "cha_str1=make_small_to_big(cor_str1)\n",
    "sli_str1_set=slicing_str(cha_str1)\n",
    "cor_str2=make_right_word(str2)\n",
    "cha_str2=make_small_to_big(cor_str2)\n",
    "sli_str2_set=slicing_str(cha_str2)\n",
    "union_ = sli_str1_set.union(sli_str2_set)\n",
    "inter_ = sli_str1_set.intersection(sli_str2_set)\n",
    "jacad = len(inter_)/len(union_)*65536\n",
    "print(cha_str1,cha_str2)\n",
    "print(union_,inter_)\n",
    "print(sli_str1_set,sli_str2_set)\n",
    "print(\"%d\" % jacad)"
   ]
  },
  {
   "cell_type": "code",
   "execution_count": null,
   "metadata": {},
   "outputs": [],
   "source": [
    "##수정 후"
   ]
  },
  {
   "cell_type": "code",
   "execution_count": 98,
   "metadata": {},
   "outputs": [],
   "source": [
    "def make_small_to_big(str_):#소문자를 대문자로 바꿔주는 함수\n",
    "    changed_str = \"\"\n",
    "    for i in str_:\n",
    "        if 97<=ord(i)<=122:\n",
    "            changed_str += chr(ord(i)-32)\n",
    "        else:\n",
    "            changed_str += i\n",
    "\n",
    "    return changed_str\n",
    "\n",
    "def slicing_str(str_):#정제된 문자열을 슬라이싱 해주는 함수\n",
    "    set_ = set()\n",
    "    for i in range(len(str_)-1):\n",
    "        if str_[i:i+2] not in set_ :\n",
    "            set_.add(str_[i:i+2])\n",
    "        else:\n",
    "            temp_str = str_[i:i+2]+\"1\"\n",
    "            if temp_str not in set_:\n",
    "                set_.add(temp_str)\n",
    "                continue\n",
    "            while i:\n",
    "                if temp_str in set_:\n",
    "                    temp_str += \"1\"\n",
    "                else:\n",
    "                    set_.add(temp_str)\n",
    "                    break\n",
    "    \n",
    "    return set_\n",
    "\n",
    "def make_right_word(set_):#특수 기호를 걸러주는 함수\n",
    "    correct_set = set()\n",
    "    for i in list(set_):\n",
    "        if 65<=ord(i[0])<=90 and 65<=ord(i[1])<=90:#전부 대문자이기에\n",
    "            correct_set.add(i)\n",
    "    return correct_set\n",
    "\n"
   ]
  },
  {
   "cell_type": "code",
   "execution_count": 107,
   "metadata": {},
   "outputs": [
    {
     "name": "stdout",
     "output_type": "stream",
     "text": [
      "16384\n"
     ]
    }
   ],
   "source": [
    "str1=\"FRANCE\"\n",
    "str2=\"french\"\n",
    "big_str1=make_small_to_big(str1)\n",
    "big_str2=make_small_to_big(str2)\n",
    "set1=slicing_str(big_str1)\n",
    "set2=slicing_str(big_str2)\n",
    "cor_set1=make_right_word(set1)\n",
    "cor_set2=make_right_word(set2)\n",
    "union_=cor_set1.union(cor_set2)\n",
    "inter_=cor_set1.intersection(cor_set2)\n",
    "if len(union_)==0:\n",
    "    jacad = 65536\n",
    "else:\n",
    "    jacad = len(inter_)/len(union_)*65536\n",
    "print(\"%d\" % jacad)"
   ]
  },
  {
   "cell_type": "code",
   "execution_count": null,
   "metadata": {},
   "outputs": [],
   "source": [
    "#수정 후 채점 완료"
   ]
  }
 ],
 "metadata": {
  "kernelspec": {
   "display_name": "Python 3",
   "language": "python",
   "name": "python3"
  },
  "language_info": {
   "codemirror_mode": {
    "name": "ipython",
    "version": 3
   },
   "file_extension": ".py",
   "mimetype": "text/x-python",
   "name": "python",
   "nbconvert_exporter": "python",
   "pygments_lexer": "ipython3",
   "version": "3.8.5"
  }
 },
 "nbformat": 4,
 "nbformat_minor": 4
}
