{
 "cells": [
  {
   "cell_type": "markdown",
   "metadata": {},
   "source": [
    "문제 설명\n",
    "카카오에 입사한 신입 개발자 네오는 \"카카오계정개발팀\"에 배치되어, 카카오 서비스에 가입하는 유저들의 아이디를 생성하는 업무를 담당하게 되었습니다. \"네오\"에게 주어진 첫 업무는 새로 가입하는 유저들이 카카오 아이디 규칙에 맞지 않는 아이디를 입력했을 때, 입력된 아이디와 유사하면서 규칙에 맞는 아이디를 추천해주는 프로그램을 개발하는 것입니다.\n",
    "다음은 카카오 아이디의 규칙입니다.\n",
    "\n",
    "아이디의 길이는 3자 이상 15자 이하여야 합니다.\n",
    "아이디는 알파벳 소문자, 숫자, 빼기(-), 밑줄(_), 마침표(.) 문자만 사용할 수 있습니다.\n",
    "단, 마침표(.)는 처음과 끝에 사용할 수 없으며 또한 연속으로 사용할 수 없습니다.\n",
    "\"네오\"는 다음과 같이 7단계의 순차적인 처리 과정을 통해 신규 유저가 입력한 아이디가 카카오 아이디 규칙에 맞는 지 검사하고 규칙에 맞지 않은 경우 규칙에 맞는 새로운 아이디를 추천해 주려고 합니다.\n",
    "신규 유저가 입력한 아이디가 new_id 라고 한다면,\n",
    "\n",
    "1단계 new_id의 모든 대문자를 대응되는 소문자로 치환합니다.\n",
    "2단계 new_id에서 알파벳 소문자, 숫자, 빼기(-), 밑줄(_), 마침표(.)를 제외한 모든 문자를 제거합니다.\n",
    "3단계 new_id에서 마침표(.)가 2번 이상 연속된 부분을 하나의 마침표(.)로 치환합니다.\n",
    "4단계 new_id에서 마침표(.)가 처음이나 끝에 위치한다면 제거합니다.\n",
    "5단계 new_id가 빈 문자열이라면, new_id에 \"a\"를 대입합니다.\n",
    "6단계 new_id의 길이가 16자 이상이면, new_id의 첫 15개의 문자를 제외한 나머지 문자들을 모두 제거합니다.\n",
    "     만약 제거 후 마침표(.)가 new_id의 끝에 위치한다면 끝에 위치한 마침표(.) 문자를 제거합니다.\n",
    "7단계 new_id의 길이가 2자 이하라면, new_id의 마지막 문자를 new_id의 길이가 3이 될 때까지 반복해서 끝에 붙입니다.nb"
   ]
  },
  {
   "cell_type": "markdown",
   "metadata": {},
   "source": [
    "* 이중루프가 없는데 자꾸 시간 초과가 뜬다...\n",
    "* 테스트 케이스가 다 맞는ㄱ"
   ]
  },
  {
   "cell_type": "code",
   "execution_count": 224,
   "metadata": {},
   "outputs": [
    {
     "name": "stdout",
     "output_type": "stream",
     "text": [
      "abcdefghijklmn.p\n"
     ]
    }
   ],
   "source": [
    "#1단계\n",
    "new_id = input()\n",
    "id_1 = new_id.lower()"
   ]
  },
  {
   "cell_type": "code",
   "execution_count": 225,
   "metadata": {},
   "outputs": [],
   "source": [
    "#2단계\n",
    "special_list = ['-','_','.']\n",
    "id_2 =''\n",
    "for i in id_1:\n",
    "    if (i.isalpha() or i.isnumeric() or (i in special_list)):\n",
    "        id_2 += i"
   ]
  },
  {
   "cell_type": "code",
   "execution_count": 226,
   "metadata": {},
   "outputs": [],
   "source": [
    "#3단계\n",
    "id_3 = ''\n",
    "for i in id_2:\n",
    "    if i == '.' and id_3[len(id_3)-1:len(id_3)] == '.':\n",
    "        continue\n",
    "\n",
    "    id_3 += i"
   ]
  },
  {
   "cell_type": "code",
   "execution_count": 227,
   "metadata": {},
   "outputs": [],
   "source": [
    "#4단계\n",
    "id_4 = ''\n",
    "if id_3[0] == '.':\n",
    "    id_4 += id_3[1:len(id_3)]\n",
    "\n",
    "else:\n",
    "    id_4 = id_3\n",
    "\n",
    "if id_3[-1]=='.':\n",
    "    id_4 = id_4[0:len(id_4)-1]"
   ]
  },
  {
   "cell_type": "code",
   "execution_count": 123,
   "metadata": {},
   "outputs": [],
   "source": []
  },
  {
   "cell_type": "code",
   "execution_count": 228,
   "metadata": {},
   "outputs": [],
   "source": [
    "#5단계\n",
    "id_5 = ''\n",
    "if id_4 =='':\n",
    "    id_5 += 'a'\n",
    "else :\n",
    "    id_5 = id_4"
   ]
  },
  {
   "cell_type": "code",
   "execution_count": 229,
   "metadata": {},
   "outputs": [],
   "source": [
    "#6단계\n",
    "id_6=''\n",
    "if len(id_5) >= 16:\n",
    "    id_6 = id_5[0:15]\n",
    "else:\n",
    "    id_6 = id_5\n",
    "\n",
    "if id_6[-1] =='.':\n",
    "    id_6 = id_6[:len(id_6)-1]"
   ]
  },
  {
   "cell_type": "code",
   "execution_count": 230,
   "metadata": {},
   "outputs": [
    {
     "data": {
      "text/plain": [
       "'abcdefghijklmn'"
      ]
     },
     "execution_count": 230,
     "metadata": {},
     "output_type": "execute_result"
    }
   ],
   "source": [
    "#7단계\n",
    "id_7 = id_6\n",
    "if len(id_6) <= 2:\n",
    "    while len(id_7) <= 2:\n",
    "        id_7 += id_6[-1]"
   ]
  }
 ],
 "metadata": {
  "kernelspec": {
   "display_name": "Python 3",
   "language": "python",
   "name": "python3"
  },
  "language_info": {
   "codemirror_mode": {
    "name": "ipython",
    "version": 3
   },
   "file_extension": ".py",
   "mimetype": "text/x-python",
   "name": "python",
   "nbconvert_exporter": "python",
   "pygments_lexer": "ipython3",
   "version": "3.8.5"
  }
 },
 "nbformat": 4,
 "nbformat_minor": 4
}
