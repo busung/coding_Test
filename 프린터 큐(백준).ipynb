{
 "cells": [
  {
   "cell_type": "markdown",
   "metadata": {},
   "source": [
    "#총 소요시간 1시간 반\n",
    "#예외를 다 생각하지 못함.....\n",
    "#큐를 imnport한 더 똑똑한 코드가 있을 것 같으므로 공부 해야겠음\n",
    "#코드 너무 개판"
   ]
  },
  {
   "cell_type": "code",
   "execution_count": 4,
   "metadata": {},
   "outputs": [],
   "source": [
    "def make_list(list_):#문서들을 규칙에 맞게 정렬해주는 코드\n",
    "    paper = list_[0]\n",
    "    for comp in list_:\n",
    "        if list(paper.values())[0]<list(comp.values())[0]:\n",
    "            list_.append(paper)\n",
    "            pop_front(list_)\n",
    "            return False\n",
    "    return True\n",
    "\n",
    "def pop_front(list_):#문서들을 프린트 후 앞으로 한 칸씩 당겨주는 코드\n",
    "    for a in range(1, len(list_)):\n",
    "        list_[a - 1] = list_[a]\n",
    "    list_.pop()"
   ]
  },
  {
   "cell_type": "code",
   "execution_count": 1,
   "metadata": {},
   "outputs": [
    {
     "name": "stdout",
     "output_type": "stream",
     "text": [
      "3\n",
      "1\n"
     ]
    },
    {
     "ename": "ValueError",
     "evalue": "not enough values to unpack (expected 2, got 1)",
     "output_type": "error",
     "traceback": [
      "\u001b[1;31m---------------------------------------------------------------------------\u001b[0m",
      "\u001b[1;31mValueError\u001b[0m                                Traceback (most recent call last)",
      "\u001b[1;32m<ipython-input-1-dd5c3adc008e>\u001b[0m in \u001b[0;36m<module>\u001b[1;34m\u001b[0m\n\u001b[0;32m      2\u001b[0m \u001b[1;32mfor\u001b[0m \u001b[0mi\u001b[0m \u001b[1;32min\u001b[0m \u001b[0mrange\u001b[0m\u001b[1;33m(\u001b[0m\u001b[0mcase\u001b[0m\u001b[1;33m)\u001b[0m\u001b[1;33m:\u001b[0m\u001b[1;33m\u001b[0m\u001b[1;33m\u001b[0m\u001b[0m\n\u001b[0;32m      3\u001b[0m     \u001b[0mpap_list\u001b[0m \u001b[1;33m=\u001b[0m \u001b[1;33m[\u001b[0m\u001b[1;33m]\u001b[0m\u001b[1;33m\u001b[0m\u001b[1;33m\u001b[0m\u001b[0m\n\u001b[1;32m----> 4\u001b[1;33m     \u001b[0mnum_of_pap\u001b[0m\u001b[1;33m,\u001b[0m\u001b[0mw_find\u001b[0m \u001b[1;33m=\u001b[0m \u001b[0mmap\u001b[0m\u001b[1;33m(\u001b[0m\u001b[0mint\u001b[0m\u001b[1;33m,\u001b[0m\u001b[0minput\u001b[0m\u001b[1;33m(\u001b[0m\u001b[1;33m)\u001b[0m\u001b[1;33m.\u001b[0m\u001b[0msplit\u001b[0m\u001b[1;33m(\u001b[0m\u001b[1;33m)\u001b[0m\u001b[1;33m)\u001b[0m\u001b[1;33m\u001b[0m\u001b[1;33m\u001b[0m\u001b[0m\n\u001b[0m\u001b[0;32m      5\u001b[0m     \u001b[0mimport_pap\u001b[0m \u001b[1;33m=\u001b[0m \u001b[0mlist\u001b[0m\u001b[1;33m(\u001b[0m\u001b[0mmap\u001b[0m\u001b[1;33m(\u001b[0m\u001b[0mint\u001b[0m\u001b[1;33m,\u001b[0m\u001b[0minput\u001b[0m\u001b[1;33m(\u001b[0m\u001b[1;33m)\u001b[0m\u001b[1;33m.\u001b[0m\u001b[0msplit\u001b[0m\u001b[1;33m(\u001b[0m\u001b[1;33m)\u001b[0m\u001b[1;33m)\u001b[0m\u001b[1;33m)\u001b[0m\u001b[1;33m\u001b[0m\u001b[1;33m\u001b[0m\u001b[0m\n\u001b[0;32m      6\u001b[0m     \u001b[1;32mfor\u001b[0m \u001b[0mj\u001b[0m \u001b[1;32min\u001b[0m \u001b[0mrange\u001b[0m\u001b[1;33m(\u001b[0m\u001b[0mnum_of_pap\u001b[0m\u001b[1;33m)\u001b[0m\u001b[1;33m:\u001b[0m\u001b[1;33m\u001b[0m\u001b[1;33m\u001b[0m\u001b[0m\n",
      "\u001b[1;31mValueError\u001b[0m: not enough values to unpack (expected 2, got 1)"
     ]
    }
   ],
   "source": [
    "case = int(input())\n",
    "for i in range(case):\n",
    "    count = 1\n",
    "    pap_list = []\n",
    "    num_of_pap,w_find = map(int,input().split())\n",
    "    import_pap = list(map(int,input().split()))\n",
    "    for j in range(num_of_pap):\n",
    "        pap_dic = {}\n",
    "        pap_dic[j]=import_pap[j]\n",
    "        pap_list.append(pap_dic)\n",
    "\n",
    "    if len(pap_list)<2:#문서의 길이가 1이면 무조건 첫번째 이므로\n",
    "        print(count)\n",
    "        continue\n",
    "\n",
    "    while len(pap_list)>=2:\n",
    "\n",
    "        while not make_list(pap_list):#규칙에 적합할 때까지 정렬\n",
    "            continue\n",
    "\n",
    "        if list(pap_list[0].keys())[0] == w_find:#원하는 문서라면 당시 count출력\n",
    "            print(count)\n",
    "            break\n",
    "\n",
    "        pop_front(pap_list)\n",
    "        count += 1\n",
    "\n",
    "    if len(pap_list) < 2:#다 프린트되고 마지막 프린트\n",
    "        print(count)\n",
    "        continue"
   ]
  }
 ],
 "metadata": {
  "kernelspec": {
   "display_name": "Python 3",
   "language": "python",
   "name": "python3"
  },
  "language_info": {
   "codemirror_mode": {
    "name": "ipython",
    "version": 3
   },
   "file_extension": ".py",
   "mimetype": "text/x-python",
   "name": "python",
   "nbconvert_exporter": "python",
   "pygments_lexer": "ipython3",
   "version": "3.8.5"
  }
 },
 "nbformat": 4,
 "nbformat_minor": 4
}
