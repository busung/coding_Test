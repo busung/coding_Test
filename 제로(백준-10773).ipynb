{
 "cells": [
  {
   "cell_type": "markdown",
   "metadata": {},
   "source": [
    "#list를 스택으로 이용하여 문제를 해결"
   ]
  },
  {
   "cell_type": "code",
   "execution_count": null,
   "metadata": {},
   "outputs": [],
   "source": [
    "num=int(input())\n",
    "my_list=[]\n",
    "for i in range(num):\n",
    "    a = int(input())\n",
    "    if a == 0:#0이면 list에서 pop\n",
    "        my_list.pop()\n",
    "    else:#아니면 추가\n",
    "        my_list.append(a)\n",
    "\n",
    "print(sum(my_list))"
   ]
  }
 ],
 "metadata": {
  "kernelspec": {
   "display_name": "Python 3",
   "language": "python",
   "name": "python3"
  },
  "language_info": {
   "codemirror_mode": {
    "name": "ipython",
    "version": 3
   },
   "file_extension": ".py",
   "mimetype": "text/x-python",
   "name": "python",
   "nbconvert_exporter": "python",
   "pygments_lexer": "ipython3",
   "version": "3.8.5"
  }
 },
 "nbformat": 4,
 "nbformat_minor": 4
}
