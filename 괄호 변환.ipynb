{
 "cells": [
  {
   "cell_type": "markdown",
   "metadata": {},
   "source": [
    "# 2시간 반 코딩했으나...실패\n",
    "# 알고리즘에 대해 조금 더 공부하고 다시 해봐야 할 듯"
   ]
  },
  {
   "cell_type": "code",
   "execution_count": 34,
   "metadata": {},
   "outputs": [],
   "source": [
    "list_of_u = []\n",
    "\n",
    "def check_balance(str_):#균형 문자열인지 체크하는 함수\n",
    "    count = 0\n",
    "    for i in str_:\n",
    "        if i == '(':\n",
    "            count += 1\n",
    "        else:\n",
    "            count -= 1\n",
    "    if count == 0:\n",
    "        return True\n",
    "    else:\n",
    "        return False\n",
    "\n",
    "\n",
    "def check_right(str_):#올바른 문자열인지 체크하는 함수\n",
    "    count = 0\n",
    "    for i in str_:\n",
    "        if i == '(':\n",
    "            count += 1\n",
    "        else:\n",
    "            count -= 1\n",
    "        if count < 0:\n",
    "            return False\n",
    "\n",
    "    return True\n",
    "\n",
    "\n",
    "def make_u(str_):#u와v로 나누는 함수\n",
    "    u = \"\"\n",
    "    v = \"\"\n",
    "    for i in range(1, len(str_)+1):\n",
    "        if check_balance(str_[0:i]):\n",
    "            u = str_[0:i]\n",
    "            v = str_[i:len(str_)]\n",
    "            break\n",
    "    return u, v\n",
    "\n",
    "\n",
    "def change_direction(str_):#u를 첫째,마지막 지우고 방향 바꾸는 함수\n",
    "    new_str = \"\"\n",
    "    for i in range(1, len(str_)-1):\n",
    "        if str_[i] == '(':\n",
    "            new_str += ')'\n",
    "        else:\n",
    "            new_str += '('\n",
    "    return new_str\n",
    "\n",
    "\n",
    "def make_right(str_):#올바른 문자열 만드는 함수\n",
    "    u, v = make_u(str_)\n",
    "    if check_right(u):\n",
    "        if v == \"\":\n",
    "            re_str = \"\"\n",
    "            for i in list_of_u:\n",
    "                re_str += i\n",
    "            return re_str\n",
    "        list_of_u.append(u)\n",
    "        return make_right(v)\n",
    "    else:\n",
    "        new_str = \"(\"\n",
    "        add_str = make_right(v)\n",
    "        new_str += add_str + ')'\n",
    "        new_str += change_direction(u)\n",
    "        if len(list_of_u)!=0:\n",
    "            str_1 = \"\"\n",
    "            for i in list_of_u:\n",
    "                str_1 += i\n",
    "            return i+new_str\n",
    "        return new_str"
   ]
  },
  {
   "cell_type": "code",
   "execution_count": 35,
   "metadata": {},
   "outputs": [
    {
     "name": "stdout",
     "output_type": "stream",
     "text": [
      "(()())\n"
     ]
    }
   ],
   "source": [
    "a=make_right(\"(()())()\")\n",
    "print(a)"
   ]
  }
 ],
 "metadata": {
  "kernelspec": {
   "display_name": "Python 3",
   "language": "python",
   "name": "python3"
  },
  "language_info": {
   "codemirror_mode": {
    "name": "ipython",
    "version": 3
   },
   "file_extension": ".py",
   "mimetype": "text/x-python",
   "name": "python",
   "nbconvert_exporter": "python",
   "pygments_lexer": "ipython3",
   "version": "3.8.5"
  }
 },
 "nbformat": 4,
 "nbformat_minor": 4
}
