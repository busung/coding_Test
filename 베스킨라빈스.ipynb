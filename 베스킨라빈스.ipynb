{
 "cells": [
  {
   "cell_type": "markdown",
   "metadata": {},
   "source": [
    "#소요시간 20분"
   ]
  },
  {
   "cell_type": "code",
   "execution_count": 5,
   "metadata": {},
   "outputs": [
    {
     "name": "stdout",
     "output_type": "stream",
     "text": [
      "31\n",
      "1\n",
      "2\n",
      "4\n",
      "5\n",
      "9\n",
      "14\n",
      "29\n"
     ]
    }
   ],
   "source": [
    "A = int(input())\n",
    "can_win = []#이길 수 있는 숫자 리스트\n",
    "for i in range(1,A+1):\n",
    "    result = 30\n",
    "    while result > 0:\n",
    "        result -= i+1\n",
    "    if result == 0:\n",
    "        can_win.append(i)\n",
    "for i in can_win:\n",
    "    print(i)"
   ]
  },
  {
   "cell_type": "markdown",
   "metadata": {},
   "source": [
    "#이기려면 30을 결국 얻어야함\n",
    "#30을 얻으려면 부를 수 있는 최대개수의 +1만큼 떨어진 숫자를 먹어야 함\n",
    "##ex)간격이 2라면 27을 먹어야 30을 무조건 먹을 수 있음\n",
    "#이런 식으로 먹어야 하는 숫자들을 계속 먹는데 이때 이 간격으로 뺏을 때 마지막이 0이라면 시작 플레이어는 먹어야 하는 숫자의 -1만큼까지 밖에 먹을 수 없기에 두 번째 시작한 플레이어가 무조건 이김"
   ]
  }
 ],
 "metadata": {
  "kernelspec": {
   "display_name": "Python 3",
   "language": "python",
   "name": "python3"
  },
  "language_info": {
   "codemirror_mode": {
    "name": "ipython",
    "version": 3
   },
   "file_extension": ".py",
   "mimetype": "text/x-python",
   "name": "python",
   "nbconvert_exporter": "python",
   "pygments_lexer": "ipython3",
   "version": "3.8.5"
  }
 },
 "nbformat": 4,
 "nbformat_minor": 4
}
