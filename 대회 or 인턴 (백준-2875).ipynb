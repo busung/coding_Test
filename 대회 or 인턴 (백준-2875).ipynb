{
 "cells": [
  {
   "cell_type": "markdown",
   "metadata": {},
   "source": [
    "백준대학교에서는 대회에 나갈 때 2명의 여학생과 1명의 남학생이 팀을 결성해서 나가는 것이 원칙이다. (왜인지는 총장님께 여쭈어보는 것이 좋겠다.)\n",
    "\n",
    "백준대학교는 뛰어난 인재들이 많아 올해에도 N명의 여학생과 M명의 남학생이 팀원을 찾고 있다. 대회에 참여하려는 학생들 중 K명은 반드시 인턴쉽 프로그램에 참여해야 한다. 인턴쉽에 참여하는 학생은 대회에 참여하지 못한다.\n",
    "\n",
    "백준대학교에서는 뛰어난 인재들이 많기 때문에, 많은 팀을 만드는 것이 최선이다.\n",
    "\n",
    "여러분은 여학생의 수 N, 남학생의 수 M, 인턴쉽에 참여해야하는 인원 K가 주어질 때 만들 수 있는 최대의 팀 수를 구하면 된다."
   ]
  },
  {
   "cell_type": "code",
   "execution_count": 9,
   "metadata": {},
   "outputs": [
    {
     "name": "stdout",
     "output_type": "stream",
     "text": [
      "6 10 3\n",
      "3\n"
     ]
    }
   ],
   "source": [
    "W,M,K = map(int,input().split())\n",
    "max_team = min([W//2,M])#현재 인원으로 만들 수 있는 가장 많은 팀\n",
    "W_r = W-max_team*2\n",
    "M_r = M-max_team\n",
    "\n",
    "if K <= W_r+M_r:\n",
    "    print(max_team)\n",
    "else:\n",
    "    K -= W_r+M_r#남은 인원들을 전부 인턴으로 보냄\n",
    "    max_team -= K//3 #한 팀을 해체하면 3명의 가용인원이 생기므로 최대 몇 팀을 해체해야하는지 계산\n",
    "    if K%3 != 0:\n",
    "        max_team -= 1 #3명이하여도 팀을 하나 해제해야 하므로\n",
    "    if 0<=max_team:\n",
    "        print(max_team)\n",
    "    else:\n",
    "        print(0)#team이 음수 일 땐 0 출력"
   ]
  }
 ],
 "metadata": {
  "kernelspec": {
   "display_name": "Python 3",
   "language": "python",
   "name": "python3"
  },
  "language_info": {
   "codemirror_mode": {
    "name": "ipython",
    "version": 3
   },
   "file_extension": ".py",
   "mimetype": "text/x-python",
   "name": "python",
   "nbconvert_exporter": "python",
   "pygments_lexer": "ipython3",
   "version": "3.8.5"
  }
 },
 "nbformat": 4,
 "nbformat_minor": 4
}
