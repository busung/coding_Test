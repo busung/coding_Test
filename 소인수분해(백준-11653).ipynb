{
 "cells": [
  {
   "cell_type": "markdown",
   "metadata": {},
   "source": [
    "#소수 구하는 부분에서 이중 루프 때문에 시간 초과가 자꾸 발생함\n",
    "* 이를 개선할 방법을 찾아야 할듯"
   ]
  },
  {
   "cell_type": "code",
   "execution_count": 4,
   "metadata": {},
   "outputs": [],
   "source": [
    "#소수 구하는 함수\n",
    "def find_sosu(a):\n",
    "    natural_set = set(list(range(2,a+1)))\n",
    "    non_sosu_set = set()\n",
    "\n",
    "    for i in range(2,a+1):\n",
    "        for j in range(2,i):\n",
    "            if i%j==0:\n",
    "                non_sosu_set.add(i)\n",
    "                break\n",
    "\n",
    "    sosu_set = list((natural_set-non_sosu_set))\n",
    "    sosu_set.sort()\n",
    "    return sosu_set\n"
   ]
  },
  {
   "cell_type": "code",
   "execution_count": 5,
   "metadata": {},
   "outputs": [
    {
     "name": "stdout",
     "output_type": "stream",
     "text": [
      "6\n",
      "2\n",
      "3\n"
     ]
    }
   ],
   "source": [
    "#num을 입력받고 소인수 분해 하기\n",
    "num=int(input())\n",
    "sosu_list=find_sosu(num)\n",
    "num_sosu=[]\n",
    "\n",
    "while num!=1:\n",
    "    for i in sosu_list:\n",
    "        if num%i==0:\n",
    "            num_sosu.append(i)\n",
    "            num //= i\n",
    "            break\n",
    "num_sosu.sort()\n",
    "\n",
    "for i in num_sosu:\n",
    "    print(i)"
   ]
  }
 ],
 "metadata": {
  "kernelspec": {
   "display_name": "Python 3",
   "language": "python",
   "name": "python3"
  },
  "language_info": {
   "codemirror_mode": {
    "name": "ipython",
    "version": 3
   },
   "file_extension": ".py",
   "mimetype": "text/x-python",
   "name": "python",
   "nbconvert_exporter": "python",
   "pygments_lexer": "ipython3",
   "version": "3.8.5"
  }
 },
 "nbformat": 4,
 "nbformat_minor": 4
}
