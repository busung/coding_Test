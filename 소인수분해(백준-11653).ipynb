{
 "cells": [
  {
   "cell_type": "code",
   "execution_count": 1,
   "metadata": {},
   "outputs": [],
   "source": [
    "#소수 구하기\n",
    "sosu_set=set()\n",
    "non_sosu_set=set()\n",
    "\n",
    "def find_sosu(a):\n",
    "\n",
    "    for i in range(2,a+1):\n",
    "        for j in range(2,i):\n",
    "            if i%j==0:\n",
    "                non_sosu_set.add(i)\n",
    "                break\n",
    "\n",
    "    sosu_set = list((natural_set-non_sosu_set))\n",
    "    sosu_set.sort()\n",
    "    return sosu_set"
   ]
  },
  {
   "cell_type": "code",
   "execution_count": 2,
   "metadata": {},
   "outputs": [
    {
     "ename": "SyntaxError",
     "evalue": "unexpected EOF while parsing (<ipython-input-2-a8b0f94ddb12>, line 4)",
     "output_type": "error",
     "traceback": [
      "\u001b[1;36m  File \u001b[1;32m\"<ipython-input-2-a8b0f94ddb12>\"\u001b[1;36m, line \u001b[1;32m4\u001b[0m\n\u001b[1;33m    \u001b[0m\n\u001b[1;37m    ^\u001b[0m\n\u001b[1;31mSyntaxError\u001b[0m\u001b[1;31m:\u001b[0m unexpected EOF while parsing\n"
     ]
    }
   ],
   "source": [
    "num=int(input())\n",
    "sosu_list=find_sosu(num)\n",
    "num_sosu=[]\n",
    "\n",
    "while num!=1:\n",
    "    for i in sosu_list:\n",
    "        if num%i==0:\n",
    "            num_sosu.append(i)\n",
    "            num //= i\n",
    "            break\n",
    "num_sosu.sort()\n",
    "print(num_sosu)"
   ]
  }
 ],
 "metadata": {
  "kernelspec": {
   "display_name": "Python 3",
   "language": "python",
   "name": "python3"
  },
  "language_info": {
   "codemirror_mode": {
    "name": "ipython",
    "version": 3
   },
   "file_extension": ".py",
   "mimetype": "text/x-python",
   "name": "python",
   "nbconvert_exporter": "python",
   "pygments_lexer": "ipython3",
   "version": "3.8.5"
  }
 },
 "nbformat": 4,
 "nbformat_minor": 4
}
